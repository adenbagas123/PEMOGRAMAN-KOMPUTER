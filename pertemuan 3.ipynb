{
 "cells": [
  {
   "cell_type": "markdown",
   "metadata": {},
   "source": [
    "# PERTEMUAN 3"
   ]
  },
  {
   "cell_type": "code",
   "execution_count": 22,
   "metadata": {},
   "outputs": [
    {
     "name": "stdout",
     "output_type": "stream",
     "text": [
      "Halo, aden\n",
      "umur anda: 19\n",
      "ipk Anda: 3.8\n"
     ]
    }
   ],
   "source": [
    "# Contoh Input String\n",
    "nama = input(\"Masukan nama Anda: \")\n",
    "print(\"Halo,\",nama)\n",
    "\n",
    "# Contoh Input Integer\n",
    "umur = int(input(\"Masukan umur: \"))\n",
    "print(\"umur anda:\",umur)\n",
    "\n",
    "# Contoh Input Float\n",
    "ipk = float(input(\"Masukan ipk: \"))\n",
    "print(\"ipk Anda:\",ipk)"
   ]
  },
  {
   "cell_type": "markdown",
   "metadata": {},
   "source": [
    "# CONTOH INPUT YANG DI PISAHKAN SPASI"
   ]
  },
  {
   "cell_type": "code",
   "execution_count": 24,
   "metadata": {},
   "outputs": [
    {
     "name": "stdout",
     "output_type": "stream",
     "text": [
      "bilangan pertama: 4\n",
      "bilangan kedua: 6\n"
     ]
    }
   ],
   "source": [
    "bil = input(\"Masukan dua bilangan bulat dipisahkan oleh spasi: \")\n",
    "# membagi variasi bill menjadi variasi bil1 dan bill2\n",
    "bil1,bil2=map(int,bil.split())\n",
    "print(\"bilangan pertama:\", bil1)\n",
    "print(\"bilangan kedua:\", bil2)"
   ]
  },
  {
   "cell_type": "markdown",
   "metadata": {},
   "source": [
    "# MACAM-MACAM JENIS OUTPUT PADA PHYTON"
   ]
  },
  {
   "cell_type": "code",
   "execution_count": 46,
   "metadata": {},
   "outputs": [
    {
     "name": "stdout",
     "output_type": "stream",
     "text": [
      "Hallo aden umur anda: 19 IPK anda: 3.8\n",
      "Halloaden, umur anda: 19 IPK anda: 3.8\n",
      "Hallo aden, Umur anda: 19,IPK anda: 3.8\n",
      "Hallo aden, Umur anda: 19, IPK anda: 3.8\n"
     ]
    }
   ],
   "source": [
    "print(\"Hallo\", nama, \"umur anda:\", umur, \"IPK anda:\", ipk)\n",
    "\n",
    "print(\"Hallo\"+ nama+\", umur anda:\", umur, \"IPK anda:\", ipk)\n",
    "\n",
    "print(\"Hallo %s, Umur anda: %i,IPK anda: %.1F\" % (nama, umur, ipk))\n",
    "\n",
    "print(f\"Hallo {nama}, Umur anda: {umur}, IPK anda: {ipk}\")"
   ]
  }
 ],
 "metadata": {
  "kernelspec": {
   "display_name": "Python 3",
   "language": "python",
   "name": "python3"
  },
  "language_info": {
   "codemirror_mode": {
    "name": "ipython",
    "version": 3
   },
   "file_extension": ".py",
   "mimetype": "text/x-python",
   "name": "python",
   "nbconvert_exporter": "python",
   "pygments_lexer": "ipython3",
   "version": "3.12.2"
  }
 },
 "nbformat": 4,
 "nbformat_minor": 2
}
